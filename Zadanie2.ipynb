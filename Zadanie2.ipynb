{
  "nbformat": 4,
  "nbformat_minor": 0,
  "metadata": {
    "colab": {
      "provenance": [],
      "collapsed_sections": [],
      "authorship_tag": "ABX9TyN/w1ag3s6AXUfv5DZgk3WK",
      "include_colab_link": true
    },
    "kernelspec": {
      "name": "python3",
      "display_name": "Python 3"
    },
    "language_info": {
      "name": "python"
    }
  },
  "cells": [
    {
      "cell_type": "markdown",
      "metadata": {
        "id": "view-in-github",
        "colab_type": "text"
      },
      "source": [
        "<a href=\"https://colab.research.google.com/github/Janek9709/PUZ/blob/main/Zadanie2.ipynb\" target=\"_parent\"><img src=\"https://colab.research.google.com/assets/colab-badge.svg\" alt=\"Open In Colab\"/></a>"
      ]
    },
    {
      "cell_type": "markdown",
      "source": [
        "Zadanie1"
      ],
      "metadata": {
        "id": "I03K_GRUY5kr"
      }
    },
    {
      "cell_type": "code",
      "execution_count": 43,
      "metadata": {
        "colab": {
          "base_uri": "https://localhost:8080/"
        },
        "id": "0bu30fNnWaVG",
        "outputId": "c8621bcf-abf4-4e04-ba08-3e02e4500e17"
      },
      "outputs": [
        {
          "output_type": "stream",
          "name": "stdout",
          "text": [
            "[189 170 189 163 183 171 185 168 173 183 173 173 175 178 183 193 178 173\n",
            " 174 183 183 168 170 178 182 180 183 178 182 188 175 179 183 193 182 183\n",
            " 177 185 188 188 182 185]\n",
            "Mean height: 179.73809523809524\n",
            "Standard deviation: 6.931843442745892\n",
            "Minimum height: 163\n",
            "Maximum height: 193\n",
            "25th percentile: 174.25\n",
            "Median: 182.0\n",
            "75th percentile: 183.0\n"
          ]
        }
      ],
      "source": [
        "import pandas as pd\n",
        "import numpy as np\n",
        "\n",
        "data = pd.read_csv('president_heights.csv')\n",
        "heights = np.array(data['height(cm)'])\n",
        "print(heights)\n",
        "\n",
        "print(\"Mean height:\",np.mean(heights)) \n",
        "print(\"Standard deviation:\",np.std(heights)) \n",
        "print(\"Minimum height:\",np.min(heights)) \n",
        "print(\"Maximum height:\",np.max(heights)) \n",
        "\n",
        "print(\"25th percentile:\",np.percentile(heights, 25)) \n",
        "print(\"Median:\",np.median(heights)) \n",
        "print(\"75th percentile:\",np.percentile(heights, 75)) "
      ]
    },
    {
      "cell_type": "markdown",
      "source": [
        "Zadanie2"
      ],
      "metadata": {
        "id": "ipIX4t7ga4VV"
      }
    },
    {
      "cell_type": "code",
      "source": [
        "from numpy import linalg as LA\n",
        "dane_2 = np.genfromtxt('Zadanie_2.csv', delimiter=';')\n",
        "\n",
        "print(\"Podpunkt1:\",LA.eig(dane_2))\n",
        "print(\"Podpunkt2:\",LA.inv(dane_2))"
      ],
      "metadata": {
        "id": "YytVULQha6Cr"
      },
      "execution_count": null,
      "outputs": []
    },
    {
      "cell_type": "markdown",
      "source": [
        "Zadanie3"
      ],
      "metadata": {
        "id": "L-o1jQJvdE63"
      }
    },
    {
      "cell_type": "code",
      "source": [
        "# use pandas to extract rainfall inches as a NumPy array \n",
        "\n",
        "rainfall = pd.read_csv('Seattle2014.csv')['PRCP'].values \n",
        "\n",
        "inches = rainfall / 254.0  # 1/10mm -> inches \n",
        "\n",
        "inches.shape \n",
        "\n",
        "#%matplotlib inline \n",
        "\n",
        "#import matplotlib.pyplot as plt \n",
        "\n",
        "#plt.hist(inches, 40); \n",
        "\n",
        "print(\"Number days without rain:      \",np.sum(inches == 0)) \n",
        "print(\"Number days with rain:         \",np.sum(inches != 0)) \n",
        "print(\"Days with more than 0.5 inches:\",np.sum(inches > 0.5)) \n",
        "print(\"Rainy days with < 0.2 inches  :\",np.sum(np.bitwise_and(inches < 0.2, inches > 0))) \n",
        "\n",
        "except_summer = np.concatenate([inches[:172], inches[262:]])\n",
        "\n",
        "print(\"Median precip on rainy days in 2014 (inches):   \",np.median(inches[inches > 0])) \n",
        "print(\"Median precip on summer days in 2014 (inches):  \",np.median(inches[172:262])) \n",
        "print(\"Maximum precip on summer days in 2014 (inches): \",np.max(inches[172:262])) \n",
        "print(\"Median precip on non-summer rainy days (inches):\",np.median(except_summer[except_summer > 0])) "
      ],
      "metadata": {
        "colab": {
          "base_uri": "https://localhost:8080/"
        },
        "id": "pn4qIVW9dIy6",
        "outputId": "1824e53b-4c41-49e5-9ffa-657a0969cfc8"
      },
      "execution_count": 82,
      "outputs": [
        {
          "output_type": "stream",
          "name": "stdout",
          "text": [
            "Number days without rain:       215\n",
            "Number days with rain:          150\n",
            "Days with more than 0.5 inches: 37\n",
            "Rainy days with < 0.2 inches  : 75\n",
            "Median precip on rainy days in 2014 (inches):    0.19488188976377951\n",
            "Median precip on summer days in 2014 (inches):   0.0\n",
            "Maximum precip on summer days in 2014 (inches):  0.8503937007874016\n",
            "Median precip on non-summer rainy days (inches): 0.20078740157480315\n"
          ]
        }
      ]
    },
    {
      "cell_type": "markdown",
      "source": [
        "Zadanie4"
      ],
      "metadata": {
        "id": "dChQA8cwgjQ0"
      }
    },
    {
      "cell_type": "code",
      "source": [
        "A = [0,3,2,5] \n",
        "\n",
        "B = [0,3,1,4] \n",
        "\n",
        "print(\"Add A and B:      \",np.add(A, B)) \n",
        "print(\"Subtract A and B:      \",np.subtract(B,A)) \n",
        "print(\"Multiply A by 4:      \",np.multiply(A,4)) \n",
        "print(\"Scalar product of A and B:      \",np.dot(A,B)) \n",
        "print(\"Vector length of B:      \",LA.norm(B)) \n"
      ],
      "metadata": {
        "colab": {
          "base_uri": "https://localhost:8080/"
        },
        "id": "yqH7tbbKgk9_",
        "outputId": "45da12ee-eecd-4fe9-e77f-0f480b14fca6"
      },
      "execution_count": 44,
      "outputs": [
        {
          "output_type": "stream",
          "name": "stdout",
          "text": [
            "Add A and B:       [0 6 3 9]\n",
            "Subtract A and B:       [ 0  0 -1 -1]\n",
            "Multiply A by 4:       [ 0 12  8 20]\n",
            "Scalar product of A and B:       31\n",
            "Vector length of B:       5.0990195135927845\n"
          ]
        }
      ]
    }
  ]
}